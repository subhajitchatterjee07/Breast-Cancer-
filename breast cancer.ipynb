{
 "cells": [
  {
   "cell_type": "markdown",
   "id": "7d95cc61",
   "metadata": {},
   "source": [
    "#  PREDICTING BREAST CANCER USING SVM"
   ]
  },
  {
   "cell_type": "code",
   "execution_count": 1,
   "id": "1fbc93e8",
   "metadata": {},
   "outputs": [],
   "source": [
    "import numpy as np\n",
    "import pandas as pd\n",
    "import matplotlib.pyplot as plt\n",
    "import seaborn as sns\n",
    "%matplotlib inline"
   ]
  },
  {
   "cell_type": "markdown",
   "id": "1b4ea5b0",
   "metadata": {},
   "source": [
    "### IMPORTING THE DATASET"
   ]
  },
  {
   "cell_type": "code",
   "execution_count": 2,
   "id": "69b78e7e",
   "metadata": {},
   "outputs": [],
   "source": [
    "df=pd.read_csv('Breast_Cancer.csv')"
   ]
  },
  {
   "cell_type": "code",
   "execution_count": 3,
   "id": "c64ef781",
   "metadata": {},
   "outputs": [
    {
     "data": {
      "text/html": [
       "<div>\n",
       "<style scoped>\n",
       "    .dataframe tbody tr th:only-of-type {\n",
       "        vertical-align: middle;\n",
       "    }\n",
       "\n",
       "    .dataframe tbody tr th {\n",
       "        vertical-align: top;\n",
       "    }\n",
       "\n",
       "    .dataframe thead th {\n",
       "        text-align: right;\n",
       "    }\n",
       "</style>\n",
       "<table border=\"1\" class=\"dataframe\">\n",
       "  <thead>\n",
       "    <tr style=\"text-align: right;\">\n",
       "      <th></th>\n",
       "      <th>Age</th>\n",
       "      <th>Race</th>\n",
       "      <th>Marital Status</th>\n",
       "      <th>T Stage</th>\n",
       "      <th>N Stage</th>\n",
       "      <th>6th Stage</th>\n",
       "      <th>differentiate</th>\n",
       "      <th>Grade</th>\n",
       "      <th>A Stage</th>\n",
       "      <th>Tumor Size</th>\n",
       "      <th>Estrogen Status</th>\n",
       "      <th>Progesterone Status</th>\n",
       "      <th>Regional Node Examined</th>\n",
       "      <th>Reginol Node Positive</th>\n",
       "      <th>Survival Months</th>\n",
       "      <th>Status</th>\n",
       "    </tr>\n",
       "  </thead>\n",
       "  <tbody>\n",
       "    <tr>\n",
       "      <th>0</th>\n",
       "      <td>68</td>\n",
       "      <td>White</td>\n",
       "      <td>Married</td>\n",
       "      <td>T1</td>\n",
       "      <td>N1</td>\n",
       "      <td>IIA</td>\n",
       "      <td>Poorly differentiated</td>\n",
       "      <td>3</td>\n",
       "      <td>Regional</td>\n",
       "      <td>4</td>\n",
       "      <td>Positive</td>\n",
       "      <td>Positive</td>\n",
       "      <td>24</td>\n",
       "      <td>1</td>\n",
       "      <td>60</td>\n",
       "      <td>Alive</td>\n",
       "    </tr>\n",
       "    <tr>\n",
       "      <th>1</th>\n",
       "      <td>50</td>\n",
       "      <td>White</td>\n",
       "      <td>Married</td>\n",
       "      <td>T2</td>\n",
       "      <td>N2</td>\n",
       "      <td>IIIA</td>\n",
       "      <td>Moderately differentiated</td>\n",
       "      <td>2</td>\n",
       "      <td>Regional</td>\n",
       "      <td>35</td>\n",
       "      <td>Positive</td>\n",
       "      <td>Positive</td>\n",
       "      <td>14</td>\n",
       "      <td>5</td>\n",
       "      <td>62</td>\n",
       "      <td>Alive</td>\n",
       "    </tr>\n",
       "    <tr>\n",
       "      <th>2</th>\n",
       "      <td>58</td>\n",
       "      <td>White</td>\n",
       "      <td>Divorced</td>\n",
       "      <td>T3</td>\n",
       "      <td>N3</td>\n",
       "      <td>IIIC</td>\n",
       "      <td>Moderately differentiated</td>\n",
       "      <td>2</td>\n",
       "      <td>Regional</td>\n",
       "      <td>63</td>\n",
       "      <td>Positive</td>\n",
       "      <td>Positive</td>\n",
       "      <td>14</td>\n",
       "      <td>7</td>\n",
       "      <td>75</td>\n",
       "      <td>Alive</td>\n",
       "    </tr>\n",
       "    <tr>\n",
       "      <th>3</th>\n",
       "      <td>58</td>\n",
       "      <td>White</td>\n",
       "      <td>Married</td>\n",
       "      <td>T1</td>\n",
       "      <td>N1</td>\n",
       "      <td>IIA</td>\n",
       "      <td>Poorly differentiated</td>\n",
       "      <td>3</td>\n",
       "      <td>Regional</td>\n",
       "      <td>18</td>\n",
       "      <td>Positive</td>\n",
       "      <td>Positive</td>\n",
       "      <td>2</td>\n",
       "      <td>1</td>\n",
       "      <td>84</td>\n",
       "      <td>Alive</td>\n",
       "    </tr>\n",
       "    <tr>\n",
       "      <th>4</th>\n",
       "      <td>47</td>\n",
       "      <td>White</td>\n",
       "      <td>Married</td>\n",
       "      <td>T2</td>\n",
       "      <td>N1</td>\n",
       "      <td>IIB</td>\n",
       "      <td>Poorly differentiated</td>\n",
       "      <td>3</td>\n",
       "      <td>Regional</td>\n",
       "      <td>41</td>\n",
       "      <td>Positive</td>\n",
       "      <td>Positive</td>\n",
       "      <td>3</td>\n",
       "      <td>1</td>\n",
       "      <td>50</td>\n",
       "      <td>Alive</td>\n",
       "    </tr>\n",
       "  </tbody>\n",
       "</table>\n",
       "</div>"
      ],
      "text/plain": [
       "   Age   Race Marital Status T Stage  N Stage 6th Stage  \\\n",
       "0   68  White        Married       T1      N1       IIA   \n",
       "1   50  White        Married       T2      N2      IIIA   \n",
       "2   58  White       Divorced       T3      N3      IIIC   \n",
       "3   58  White        Married       T1      N1       IIA   \n",
       "4   47  White        Married       T2      N1       IIB   \n",
       "\n",
       "               differentiate Grade   A Stage  Tumor Size Estrogen Status  \\\n",
       "0      Poorly differentiated     3  Regional           4        Positive   \n",
       "1  Moderately differentiated     2  Regional          35        Positive   \n",
       "2  Moderately differentiated     2  Regional          63        Positive   \n",
       "3      Poorly differentiated     3  Regional          18        Positive   \n",
       "4      Poorly differentiated     3  Regional          41        Positive   \n",
       "\n",
       "  Progesterone Status  Regional Node Examined  Reginol Node Positive  \\\n",
       "0            Positive                      24                      1   \n",
       "1            Positive                      14                      5   \n",
       "2            Positive                      14                      7   \n",
       "3            Positive                       2                      1   \n",
       "4            Positive                       3                      1   \n",
       "\n",
       "   Survival Months Status  \n",
       "0               60  Alive  \n",
       "1               62  Alive  \n",
       "2               75  Alive  \n",
       "3               84  Alive  \n",
       "4               50  Alive  "
      ]
     },
     "execution_count": 3,
     "metadata": {},
     "output_type": "execute_result"
    }
   ],
   "source": [
    "df.head()"
   ]
  },
  {
   "cell_type": "markdown",
   "id": "800de994",
   "metadata": {},
   "source": [
    "## CHECKING FOR NULL VALUES"
   ]
  },
  {
   "cell_type": "code",
   "execution_count": 4,
   "id": "3b404f1a",
   "metadata": {},
   "outputs": [
    {
     "data": {
      "text/plain": [
       "<AxesSubplot:>"
      ]
     },
     "execution_count": 4,
     "metadata": {},
     "output_type": "execute_result"
    },
    {
     "data": {
      "image/png": "[encoded data removed]",
      "text/plain": [
       "<Figure size 432x288 with 1 Axes>"
      ]
     },
     "metadata": {
      "needs_background": "light"
     },
     "output_type": "display_data"
    }
   ],
   "source": [
    "sns.heatmap(df.isnull(),yticklabels=False,cbar=False,cmap='viridis')"
   ]
  },
  {
   "cell_type": "markdown",
   "id": "e442ff9c",
   "metadata": {},
   "source": [
    "### No null values are detected. "
   ]
  },
  {
   "cell_type": "markdown",
   "id": "b2920134",
   "metadata": {},
   "source": [
    "#  UNDERSTANDING POPULATION DISTRIBUTION"
   ]
  },
  {
   "cell_type": "code",
   "execution_count": 5,
   "id": "33795335",
   "metadata": {},
   "outputs": [
    {
     "data": {
      "text/plain": [
       "<AxesSubplot:xlabel='Race', ylabel='count'>"
      ]
     },
     "execution_count": 5,
     "metadata": {},
     "output_type": "execute_result"
    },
    {
     "data": {
      "image/png": "[encoded data removed]",
      "text/plain": [
       "<Figure size 432x288 with 1 Axes>"
      ]
     },
     "metadata": {
      "needs_background": "light"
     },
     "output_type": "display_data"
    }
   ],
   "source": [
    "sns.countplot(x='Race',data=df)"
   ]
  },
  {
   "cell_type": "code",
   "execution_count": 6,
   "id": "d0dcbc50",
   "metadata": {},
   "outputs": [
    {
     "data": {
      "text/plain": [
       "<AxesSubplot:xlabel='Marital Status', ylabel='count'>"
      ]
     },
     "execution_count": 6,
     "metadata": {},
     "output_type": "execute_result"
    },
    {
     "data": {
      "image/png": "[encoded data removed]",
      "text/plain": [
       "<Figure size 432x288 with 1 Axes>"
      ]
     },
     "metadata": {
      "needs_background": "light"
     },
     "output_type": "display_data"
    }
   ],
   "source": [
    "sns.countplot(x='Marital Status',data=df)"
   ]
  },
  {
   "cell_type": "code",
   "execution_count": 7,
   "id": "da6d3198",
   "metadata": {},
   "outputs": [
    {
     "data": {
      "text/plain": [
       "<AxesSubplot:xlabel='T Stage ', ylabel='count'>"
      ]
     },
     "execution_count": 7,
     "metadata": {},
     "output_type": "execute_result"
    },
    {
     "data": {
      "image/png": "[encoded data removed]",
      "text/plain": [
       "<Figure size 432x288 with 1 Axes>"
      ]
     },
     "metadata": {
      "needs_background": "light"
     },
     "output_type": "display_data"
    }
   ],
   "source": [
    "sns.countplot(x='T Stage ',data=df)"
   ]
  },
  {
   "cell_type": "code",
   "execution_count": 8,
   "id": "b782a01d",
   "metadata": {},
   "outputs": [
    {
     "data": {
      "text/plain": [
       "<AxesSubplot:xlabel='N Stage', ylabel='count'>"
      ]
     },
     "execution_count": 8,
     "metadata": {},
     "output_type": "execute_result"
    },
    {
     "data": {
      "image/png": "[encoded data removed]",
      "text/plain": [
       "<Figure size 432x288 with 1 Axes>"
      ]
     },
     "metadata": {
      "needs_background": "light"
     },
     "output_type": "display_data"
    }
   ],
   "source": [
    "sns.countplot(x='N Stage',data=df)"
   ]
  },
  {
   "cell_type": "code",
   "execution_count": 9,
   "id": "0d0b578d",
   "metadata": {},
   "outputs": [
    {
     "data": {
      "text/plain": [
       "<AxesSubplot:xlabel='6th Stage', ylabel='count'>"
      ]
     },
     "execution_count": 9,
     "metadata": {},
     "output_type": "execute_result"
    },
    {
     "data": {
      "image/png": "[encoded data removed]",
      "text/plain": [
       "<Figure size 432x288 with 1 Axes>"
      ]
     },
     "metadata": {
      "needs_background": "light"
     },
     "output_type": "display_data"
    }
   ],
   "source": [
    "sns.countplot(x='6th Stage',data=df)"
   ]
  },
  {
   "cell_type": "code",
   "execution_count": 10,
   "id": "80f9fe16",
   "metadata": {},
   "outputs": [
    {
     "data": {
      "text/plain": [
       "<AxesSubplot:xlabel='differentiate', ylabel='count'>"
      ]
     },
     "execution_count": 10,
     "metadata": {},
     "output_type": "execute_result"
    },
    {
     "data": {
      "image/png": "[encoded data removed]",
      "text/plain": [
       "<Figure size 432x288 with 1 Axes>"
      ]
     },
     "metadata": {
      "needs_background": "light"
     },
     "output_type": "display_data"
    }
   ],
   "source": [
    "sns.countplot(x='differentiate',data=df)"
   ]
  },
  {
   "cell_type": "code",
   "execution_count": 11,
   "id": "286ac9ab",
   "metadata": {},
   "outputs": [
    {
     "data": {
      "text/plain": [
       "<AxesSubplot:xlabel='Grade', ylabel='count'>"
      ]
     },
     "execution_count": 11,
     "metadata": {},
     "output_type": "execute_result"
    },
    {
     "data": {
      "image/png": "[encoded data removed]",
      "text/plain": [
       "<Figure size 432x288 with 1 Axes>"
      ]
     },
     "metadata": {
      "needs_background": "light"
     },
     "output_type": "display_data"
    }
   ],
   "source": [
    "sns.countplot(x='Grade',data=df)"
   ]
  },
  {
   "cell_type": "code",
   "execution_count": 12,
   "id": "89228cd7",
   "metadata": {},
   "outputs": [
    {
     "data": {
      "text/plain": [
       "<AxesSubplot:xlabel='A Stage', ylabel='count'>"
      ]
     },
     "execution_count": 12,
     "metadata": {},
     "output_type": "execute_result"
    },
    {
     "data": {
      "image/png": "[encoded data removed]",
      "text/plain": [
       "<Figure size 432x288 with 1 Axes>"
      ]
     },
     "metadata": {
      "needs_background": "light"
     },
     "output_type": "display_data"
    }
   ],
   "source": [
    "sns.countplot(x='A Stage',data=df)"
   ]
  },
  {
   "cell_type": "code",
   "execution_count": 13,
   "id": "e5f03e88",
   "metadata": {},
   "outputs": [
    {
     "data": {
      "text/plain": [
       "<AxesSubplot:xlabel='Estrogen Status', ylabel='count'>"
      ]
     },
     "execution_count": 13,
     "metadata": {},
     "output_type": "execute_result"
    },
    {
     "data": {
      "image/png": "[encoded data removed]",
      "text/plain": [
       "<Figure size 432x288 with 1 Axes>"
      ]
     },
     "metadata": {
      "needs_background": "light"
     },
     "output_type": "display_data"
    }
   ],
   "source": [
    "sns.countplot(x='Estrogen Status',data=df)"
   ]
  },
  {
   "cell_type": "code",
   "execution_count": 14,
   "id": "c1533446",
   "metadata": {},
   "outputs": [
    {
     "data": {
      "text/plain": [
       "<AxesSubplot:xlabel='Progesterone Status', ylabel='count'>"
      ]
     },
     "execution_count": 14,
     "metadata": {},
     "output_type": "execute_result"
    },
    {
     "data": {
      "image/png": "[encoded data removed]",
      "text/plain": [
       "<Figure size 432x288 with 1 Axes>"
      ]
     },
     "metadata": {
      "needs_background": "light"
     },
     "output_type": "display_data"
    }
   ],
   "source": [
    "sns.countplot(x='Progesterone Status',data=df)"
   ]
  },
  {
   "cell_type": "code",
   "execution_count": 15,
   "id": "be046561",
   "metadata": {},
   "outputs": [
    {
     "data": {
      "text/plain": [
       "<AxesSubplot:xlabel='Age', ylabel='Count'>"
      ]
     },
     "execution_count": 15,
     "metadata": {},
     "output_type": "execute_result"
    },
    {
     "data": {
      "image/png": "[encoded data removed]",
      "text/plain": [
       "<Figure size 432x288 with 1 Axes>"
      ]
     },
     "metadata": {
      "needs_background": "light"
     },
     "output_type": "display_data"
    }
   ],
   "source": [
    "sns.histplot(df['Age'].dropna(),color='darkred',kde=True,bins=50)"
   ]
  },
  {
   "cell_type": "code",
   "execution_count": 16,
   "id": "a0912a75",
   "metadata": {},
   "outputs": [
    {
     "data": {
      "text/plain": [
       "<AxesSubplot:xlabel='Tumor Size', ylabel='Count'>"
      ]
     },
     "execution_count": 16,
     "metadata": {},
     "output_type": "execute_result"
    },
    {
     "data": {
      "image/png": "[encoded data removed]",
      "text/plain": [
       "<Figure size 432x288 with 1 Axes>"
      ]
     },
     "metadata": {
      "needs_background": "light"
     },
     "output_type": "display_data"
    }
   ],
   "source": [
    "sns.histplot(df['Tumor Size'].dropna(),color='darkred',kde=True,bins=30)"
   ]
  },
  {
   "cell_type": "code",
   "execution_count": 17,
   "id": "8b13e26d",
   "metadata": {},
   "outputs": [
    {
     "data": {
      "text/plain": [
       "<AxesSubplot:xlabel='Regional Node Examined', ylabel='Count'>"
      ]
     },
     "execution_count": 17,
     "metadata": {},
     "output_type": "execute_result"
    },
    {
     "data": {
      "image/png": "[encoded data removed]",
      "text/plain": [
       "<Figure size 432x288 with 1 Axes>"
      ]
     },
     "metadata": {
      "needs_background": "light"
     },
     "output_type": "display_data"
    }
   ],
   "source": [
    "sns.histplot(df['Regional Node Examined'].dropna(),color='darkred',kde=True,bins=30)"
   ]
  },
  {
   "cell_type": "code",
   "execution_count": 18,
   "id": "0d0d20ca",
   "metadata": {},
   "outputs": [
    {
     "data": {
      "text/plain": [
       "<AxesSubplot:xlabel='Reginol Node Positive', ylabel='Count'>"
      ]
     },
     "execution_count": 18,
     "metadata": {},
     "output_type": "execute_result"
    },
    {
     "data": {
      "image/png": "[encoded data removed]",
      "text/plain": [
       "<Figure size 432x288 with 1 Axes>"
      ]
     },
     "metadata": {
      "needs_background": "light"
     },
     "output_type": "display_data"
    }
   ],
   "source": [
    "sns.histplot(df['Reginol Node Positive'].dropna(),color='darkred',kde=True,bins=30)"
   ]
  },
  {
   "cell_type": "code",
   "execution_count": 19,
   "id": "94ec88d2",
   "metadata": {},
   "outputs": [
    {
     "data": {
      "text/plain": [
       "<AxesSubplot:xlabel='Survival Months', ylabel='Count'>"
      ]
     },
     "execution_count": 19,
     "metadata": {},
     "output_type": "execute_result"
    },
    {
     "data": {
      "image/png": "[encoded data removed]",
      "text/plain": [
       "<Figure size 432x288 with 1 Axes>"
      ]
     },
     "metadata": {
      "needs_background": "light"
     },
     "output_type": "display_data"
    }
   ],
   "source": [
    "sns.histplot(df['Survival Months'].dropna(),color='darkred',kde=True,bins=30)"
   ]
  },
  {
   "cell_type": "code",
   "execution_count": 20,
   "id": "b62a201b",
   "metadata": {},
   "outputs": [
    {
     "data": {
      "text/plain": [
       "Index(['Age', 'Race', 'Marital Status', 'T Stage ', 'N Stage', '6th Stage',\n",
       "       'differentiate', 'Grade', 'A Stage', 'Tumor Size', 'Estrogen Status',\n",
       "       'Progesterone Status', 'Regional Node Examined',\n",
       "       'Reginol Node Positive', 'Survival Months', 'Status'],\n",
       "      dtype='object')"
      ]
     },
     "execution_count": 20,
     "metadata": {},
     "output_type": "execute_result"
    }
   ],
   "source": [
    "df.columns"
   ]
  },
  {
   "cell_type": "markdown",
   "id": "89ea63d9",
   "metadata": {},
   "source": [
    "## CHECKING FOR ALL UNIQUE VALUES IN THE COLUMNS AND CORRESPONDING VALUE                                                                           COUNTS"
   ]
  },
  {
   "cell_type": "code",
   "execution_count": 21,
   "id": "1864d45d",
   "metadata": {},
   "outputs": [
    {
     "data": {
      "text/plain": [
       "array(['White', 'Black', 'Other'], dtype=object)"
      ]
     },
     "execution_count": 21,
     "metadata": {},
     "output_type": "execute_result"
    }
   ],
   "source": [
    "df['Race'].unique()"
   ]
  },
  {
   "cell_type": "code",
   "execution_count": 22,
   "id": "31ec90b2",
   "metadata": {},
   "outputs": [
    {
     "data": {
      "text/plain": [
       "array(['T1', 'T2', 'T3', 'T4'], dtype=object)"
      ]
     },
     "execution_count": 22,
     "metadata": {},
     "output_type": "execute_result"
    }
   ],
   "source": [
    "df['T Stage '].unique()"
   ]
  },
  {
   "cell_type": "code",
   "execution_count": 23,
   "id": "9f96b43b",
   "metadata": {},
   "outputs": [
    {
     "data": {
      "text/plain": [
       "White    3413\n",
       "Other     320\n",
       "Black     291\n",
       "Name: Race, dtype: int64"
      ]
     },
     "execution_count": 23,
     "metadata": {},
     "output_type": "execute_result"
    }
   ],
   "source": [
    "df['Race'].value_counts()"
   ]
  },
  {
   "cell_type": "code",
   "execution_count": 24,
   "id": "1f830363",
   "metadata": {},
   "outputs": [
    {
     "data": {
      "text/plain": [
       "array(['Married', 'Divorced', 'Single ', 'Widowed', 'Separated'],\n",
       "      dtype=object)"
      ]
     },
     "execution_count": 24,
     "metadata": {},
     "output_type": "execute_result"
    }
   ],
   "source": [
    "df['Marital Status'].unique()"
   ]
  },
  {
   "cell_type": "code",
   "execution_count": 25,
   "id": "9671d850",
   "metadata": {},
   "outputs": [
    {
     "data": {
      "text/plain": [
       "Married      2643\n",
       "Single        615\n",
       "Divorced      486\n",
       "Widowed       235\n",
       "Separated      45\n",
       "Name: Marital Status, dtype: int64"
      ]
     },
     "execution_count": 25,
     "metadata": {},
     "output_type": "execute_result"
    }
   ],
   "source": [
    "df['Marital Status'].value_counts()"
   ]
  },
  {
   "cell_type": "code",
   "execution_count": 26,
   "id": "e9082eb8",
   "metadata": {},
   "outputs": [
    {
     "data": {
      "text/plain": [
       "array(['N1', 'N2', 'N3'], dtype=object)"
      ]
     },
     "execution_count": 26,
     "metadata": {},
     "output_type": "execute_result"
    }
   ],
   "source": [
    "df['N Stage'].unique()"
   ]
  },
  {
   "cell_type": "code",
   "execution_count": 27,
   "id": "b4d544ec",
   "metadata": {},
   "outputs": [
    {
     "data": {
      "text/plain": [
       "array(['Poorly differentiated', 'Moderately differentiated',\n",
       "       'Well differentiated', 'Undifferentiated'], dtype=object)"
      ]
     },
     "execution_count": 27,
     "metadata": {},
     "output_type": "execute_result"
    }
   ],
   "source": [
    "df['differentiate'].unique()"
   ]
  },
  {
   "cell_type": "code",
   "execution_count": 28,
   "id": "b8faad94",
   "metadata": {},
   "outputs": [
    {
     "data": {
      "text/plain": [
       "array(['Regional', 'Distant'], dtype=object)"
      ]
     },
     "execution_count": 28,
     "metadata": {},
     "output_type": "execute_result"
    }
   ],
   "source": [
    "df['A Stage'].unique()"
   ]
  },
  {
   "cell_type": "code",
   "execution_count": 29,
   "id": "a5ee837d",
   "metadata": {},
   "outputs": [
    {
     "data": {
      "text/plain": [
       "array(['Positive', 'Negative'], dtype=object)"
      ]
     },
     "execution_count": 29,
     "metadata": {},
     "output_type": "execute_result"
    }
   ],
   "source": [
    "df['Estrogen Status'].unique()"
   ]
  },
  {
   "cell_type": "code",
   "execution_count": 30,
   "id": "f1f87935",
   "metadata": {},
   "outputs": [
    {
     "data": {
      "text/plain": [
       "array(['Positive', 'Negative'], dtype=object)"
      ]
     },
     "execution_count": 30,
     "metadata": {},
     "output_type": "execute_result"
    }
   ],
   "source": [
    "df['Progesterone Status'].unique()"
   ]
  },
  {
   "cell_type": "code",
   "execution_count": 31,
   "id": "19acf134",
   "metadata": {},
   "outputs": [
    {
     "data": {
      "text/plain": [
       "array(['Alive', 'Dead'], dtype=object)"
      ]
     },
     "execution_count": 31,
     "metadata": {},
     "output_type": "execute_result"
    }
   ],
   "source": [
    "df['Status'].unique()"
   ]
  },
  {
   "cell_type": "code",
   "execution_count": null,
   "id": "a6aa8318",
   "metadata": {},
   "outputs": [],
   "source": []
  },
  {
   "cell_type": "code",
   "execution_count": null,
   "id": "172bb8ae",
   "metadata": {},
   "outputs": [],
   "source": []
  },
  {
   "cell_type": "code",
   "execution_count": null,
   "id": "01d3401c",
   "metadata": {},
   "outputs": [],
   "source": []
  },
  {
   "cell_type": "code",
   "execution_count": null,
   "id": "96d5e6fe",
   "metadata": {},
   "outputs": [],
   "source": []
  },
  {
   "cell_type": "markdown",
   "id": "37aa54b4",
   "metadata": {},
   "source": [
    "# FEATURE ENGINEERING \n",
    "  Using ONE HOT ENCODING to convert objects to u-int values"
   ]
  },
  {
   "cell_type": "code",
   "execution_count": 32,
   "id": "ff11962d",
   "metadata": {},
   "outputs": [
    {
     "name": "stdout",
     "output_type": "stream",
     "text": [
      "      Age  Tumor Size  Regional Node Examined  Reginol Node Positive  \\\n",
      "0      68           4                      24                      1   \n",
      "1      50          35                      14                      5   \n",
      "2      58          63                      14                      7   \n",
      "3      58          18                       2                      1   \n",
      "4      47          41                       3                      1   \n",
      "...   ...         ...                     ...                    ...   \n",
      "4019   62           9                       1                      1   \n",
      "4020   56          46                      14                      8   \n",
      "4021   68          22                      11                      3   \n",
      "4022   58          44                      11                      1   \n",
      "4023   46          30                       7                      2   \n",
      "\n",
      "      Survival Months  Race_Other  Race_White  Grade_1  Grade_2  Grade_3  ...  \\\n",
      "0                  60           0           1        0        0        1  ...   \n",
      "1                  62           0           1        0        1        0  ...   \n",
      "2                  75           0           1        0        1        0  ...   \n",
      "3                  84           0           1        0        0        1  ...   \n",
      "4                  50           0           1        0        0        1  ...   \n",
      "...               ...         ...         ...      ...      ...      ...  ...   \n",
      "4019               49           1           0        0        1        0  ...   \n",
      "4020               69           0           1        0        1        0  ...   \n",
      "4021               69           0           1        0        1        0  ...   \n",
      "4022               72           0           0        0        1        0  ...   \n",
      "4023              100           0           1        0        1        0  ...   \n",
      "\n",
      "      6th Stage_IIIA  6th Stage_IIIB  6th Stage_IIIC  \\\n",
      "0                  0               0               0   \n",
      "1                  1               0               0   \n",
      "2                  0               0               1   \n",
      "3                  0               0               0   \n",
      "4                  0               0               0   \n",
      "...              ...             ...             ...   \n",
      "4019               0               0               0   \n",
      "4020               1               0               0   \n",
      "4021               0               0               0   \n",
      "4022               0               0               0   \n",
      "4023               0               0               0   \n",
      "\n",
      "      differentiate_Poorly differentiated  differentiate_Undifferentiated  \\\n",
      "0                                       1                               0   \n",
      "1                                       0                               0   \n",
      "2                                       0                               0   \n",
      "3                                       1                               0   \n",
      "4                                       1                               0   \n",
      "...                                   ...                             ...   \n",
      "4019                                    0                               0   \n",
      "4020                                    0                               0   \n",
      "4021                                    0                               0   \n",
      "4022                                    0                               0   \n",
      "4023                                    0                               0   \n",
      "\n",
      "      differentiate_Well differentiated  A Stage_Regional  \\\n",
      "0                                     0                 1   \n",
      "1                                     0                 1   \n",
      "2                                     0                 1   \n",
      "3                                     0                 1   \n",
      "4                                     0                 1   \n",
      "...                                 ...               ...   \n",
      "4019                                  0                 1   \n",
      "4020                                  0                 1   \n",
      "4021                                  0                 1   \n",
      "4022                                  0                 1   \n",
      "4023                                  0                 1   \n",
      "\n",
      "      Estrogen Status_Positive  Progesterone Status_Positive  Status_Dead  \n",
      "0                            1                             1            0  \n",
      "1                            1                             1            0  \n",
      "2                            1                             1            0  \n",
      "3                            1                             1            0  \n",
      "4                            1                             1            0  \n",
      "...                        ...                           ...          ...  \n",
      "4019                         1                             1            0  \n",
      "4020                         1                             1            0  \n",
      "4021                         1                             0            0  \n",
      "4022                         1                             1            0  \n",
      "4023                         1                             1            0  \n",
      "\n",
      "[4024 rows x 30 columns]\n"
     ]
    }
   ],
   "source": [
    "one_hot_encoded_data = pd.get_dummies(df, columns = [ 'Race','Grade', 'Marital Status', 'T Stage ', 'N Stage', '6th Stage',\n",
    "       'differentiate',  'A Stage', 'Estrogen Status','Progesterone Status',  'Status'],drop_first=True)\n",
    "print(one_hot_encoded_data)"
   ]
  },
  {
   "cell_type": "code",
   "execution_count": 33,
   "id": "68f4ad30",
   "metadata": {},
   "outputs": [
    {
     "data": {
      "text/html": [
       "<div>\n",
       "<style scoped>\n",
       "    .dataframe tbody tr th:only-of-type {\n",
       "        vertical-align: middle;\n",
       "    }\n",
       "\n",
       "    .dataframe tbody tr th {\n",
       "        vertical-align: top;\n",
       "    }\n",
       "\n",
       "    .dataframe thead th {\n",
       "        text-align: right;\n",
       "    }\n",
       "</style>\n",
       "<table border=\"1\" class=\"dataframe\">\n",
       "  <thead>\n",
       "    <tr style=\"text-align: right;\">\n",
       "      <th></th>\n",
       "      <th>Age</th>\n",
       "      <th>Tumor Size</th>\n",
       "      <th>Regional Node Examined</th>\n",
       "      <th>Reginol Node Positive</th>\n",
       "      <th>Survival Months</th>\n",
       "      <th>Race_Other</th>\n",
       "      <th>Race_White</th>\n",
       "      <th>Grade_1</th>\n",
       "      <th>Grade_2</th>\n",
       "      <th>Grade_3</th>\n",
       "      <th>...</th>\n",
       "      <th>6th Stage_IIIA</th>\n",
       "      <th>6th Stage_IIIB</th>\n",
       "      <th>6th Stage_IIIC</th>\n",
       "      <th>differentiate_Poorly differentiated</th>\n",
       "      <th>differentiate_Undifferentiated</th>\n",
       "      <th>differentiate_Well differentiated</th>\n",
       "      <th>A Stage_Regional</th>\n",
       "      <th>Estrogen Status_Positive</th>\n",
       "      <th>Progesterone Status_Positive</th>\n",
       "      <th>Status_Dead</th>\n",
       "    </tr>\n",
       "  </thead>\n",
       "  <tbody>\n",
       "    <tr>\n",
       "      <th>0</th>\n",
       "      <td>68</td>\n",
       "      <td>4</td>\n",
       "      <td>24</td>\n",
       "      <td>1</td>\n",
       "      <td>60</td>\n",
       "      <td>0</td>\n",
       "      <td>1</td>\n",
       "      <td>0</td>\n",
       "      <td>0</td>\n",
       "      <td>1</td>\n",
       "      <td>...</td>\n",
       "      <td>0</td>\n",
       "      <td>0</td>\n",
       "      <td>0</td>\n",
       "      <td>1</td>\n",
       "      <td>0</td>\n",
       "      <td>0</td>\n",
       "      <td>1</td>\n",
       "      <td>1</td>\n",
       "      <td>1</td>\n",
       "      <td>0</td>\n",
       "    </tr>\n",
       "    <tr>\n",
       "      <th>1</th>\n",
       "      <td>50</td>\n",
       "      <td>35</td>\n",
       "      <td>14</td>\n",
       "      <td>5</td>\n",
       "      <td>62</td>\n",
       "      <td>0</td>\n",
       "      <td>1</td>\n",
       "      <td>0</td>\n",
       "      <td>1</td>\n",
       "      <td>0</td>\n",
       "      <td>...</td>\n",
       "      <td>1</td>\n",
       "      <td>0</td>\n",
       "      <td>0</td>\n",
       "      <td>0</td>\n",
       "      <td>0</td>\n",
       "      <td>0</td>\n",
       "      <td>1</td>\n",
       "      <td>1</td>\n",
       "      <td>1</td>\n",
       "      <td>0</td>\n",
       "    </tr>\n",
       "    <tr>\n",
       "      <th>2</th>\n",
       "      <td>58</td>\n",
       "      <td>63</td>\n",
       "      <td>14</td>\n",
       "      <td>7</td>\n",
       "      <td>75</td>\n",
       "      <td>0</td>\n",
       "      <td>1</td>\n",
       "      <td>0</td>\n",
       "      <td>1</td>\n",
       "      <td>0</td>\n",
       "      <td>...</td>\n",
       "      <td>0</td>\n",
       "      <td>0</td>\n",
       "      <td>1</td>\n",
       "      <td>0</td>\n",
       "      <td>0</td>\n",
       "      <td>0</td>\n",
       "      <td>1</td>\n",
       "      <td>1</td>\n",
       "      <td>1</td>\n",
       "      <td>0</td>\n",
       "    </tr>\n",
       "    <tr>\n",
       "      <th>3</th>\n",
       "      <td>58</td>\n",
       "      <td>18</td>\n",
       "      <td>2</td>\n",
       "      <td>1</td>\n",
       "      <td>84</td>\n",
       "      <td>0</td>\n",
       "      <td>1</td>\n",
       "      <td>0</td>\n",
       "      <td>0</td>\n",
       "      <td>1</td>\n",
       "      <td>...</td>\n",
       "      <td>0</td>\n",
       "      <td>0</td>\n",
       "      <td>0</td>\n",
       "      <td>1</td>\n",
       "      <td>0</td>\n",
       "      <td>0</td>\n",
       "      <td>1</td>\n",
       "      <td>1</td>\n",
       "      <td>1</td>\n",
       "      <td>0</td>\n",
       "    </tr>\n",
       "    <tr>\n",
       "      <th>4</th>\n",
       "      <td>47</td>\n",
       "      <td>41</td>\n",
       "      <td>3</td>\n",
       "      <td>1</td>\n",
       "      <td>50</td>\n",
       "      <td>0</td>\n",
       "      <td>1</td>\n",
       "      <td>0</td>\n",
       "      <td>0</td>\n",
       "      <td>1</td>\n",
       "      <td>...</td>\n",
       "      <td>0</td>\n",
       "      <td>0</td>\n",
       "      <td>0</td>\n",
       "      <td>1</td>\n",
       "      <td>0</td>\n",
       "      <td>0</td>\n",
       "      <td>1</td>\n",
       "      <td>1</td>\n",
       "      <td>1</td>\n",
       "      <td>0</td>\n",
       "    </tr>\n",
       "  </tbody>\n",
       "</table>\n",
       "<p>5 rows × 30 columns</p>\n",
       "</div>"
      ],
      "text/plain": [
       "   Age  Tumor Size  Regional Node Examined  Reginol Node Positive  \\\n",
       "0   68           4                      24                      1   \n",
       "1   50          35                      14                      5   \n",
       "2   58          63                      14                      7   \n",
       "3   58          18                       2                      1   \n",
       "4   47          41                       3                      1   \n",
       "\n",
       "   Survival Months  Race_Other  Race_White  Grade_1  Grade_2  Grade_3  ...  \\\n",
       "0               60           0           1        0        0        1  ...   \n",
       "1               62           0           1        0        1        0  ...   \n",
       "2               75           0           1        0        1        0  ...   \n",
       "3               84           0           1        0        0        1  ...   \n",
       "4               50           0           1        0        0        1  ...   \n",
       "\n",
       "   6th Stage_IIIA  6th Stage_IIIB  6th Stage_IIIC  \\\n",
       "0               0               0               0   \n",
       "1               1               0               0   \n",
       "2               0               0               1   \n",
       "3               0               0               0   \n",
       "4               0               0               0   \n",
       "\n",
       "   differentiate_Poorly differentiated  differentiate_Undifferentiated  \\\n",
       "0                                    1                               0   \n",
       "1                                    0                               0   \n",
       "2                                    0                               0   \n",
       "3                                    1                               0   \n",
       "4                                    1                               0   \n",
       "\n",
       "   differentiate_Well differentiated  A Stage_Regional  \\\n",
       "0                                  0                 1   \n",
       "1                                  0                 1   \n",
       "2                                  0                 1   \n",
       "3                                  0                 1   \n",
       "4                                  0                 1   \n",
       "\n",
       "   Estrogen Status_Positive  Progesterone Status_Positive  Status_Dead  \n",
       "0                         1                             1            0  \n",
       "1                         1                             1            0  \n",
       "2                         1                             1            0  \n",
       "3                         1                             1            0  \n",
       "4                         1                             1            0  \n",
       "\n",
       "[5 rows x 30 columns]"
      ]
     },
     "execution_count": 33,
     "metadata": {},
     "output_type": "execute_result"
    }
   ],
   "source": [
    "one_hot_encoded_data.head()"
   ]
  },
  {
   "cell_type": "code",
   "execution_count": 34,
   "id": "cb726708",
   "metadata": {},
   "outputs": [
    {
     "data": {
      "text/plain": [
       "Index(['Age', 'Tumor Size', 'Regional Node Examined', 'Reginol Node Positive',\n",
       "       'Survival Months', 'Race_Other', 'Race_White', 'Grade_1', 'Grade_2',\n",
       "       'Grade_3', 'Marital Status_Married', 'Marital Status_Separated',\n",
       "       'Marital Status_Single ', 'Marital Status_Widowed', 'T Stage _T2',\n",
       "       'T Stage _T3', 'T Stage _T4', 'N Stage_N2', 'N Stage_N3',\n",
       "       '6th Stage_IIB', '6th Stage_IIIA', '6th Stage_IIIB', '6th Stage_IIIC',\n",
       "       'differentiate_Poorly differentiated', 'differentiate_Undifferentiated',\n",
       "       'differentiate_Well differentiated', 'A Stage_Regional',\n",
       "       'Estrogen Status_Positive', 'Progesterone Status_Positive',\n",
       "       'Status_Dead'],\n",
       "      dtype='object')"
      ]
     },
     "execution_count": 34,
     "metadata": {},
     "output_type": "execute_result"
    }
   ],
   "source": [
    "one_hot_encoded_data.columns"
   ]
  },
  {
   "cell_type": "code",
   "execution_count": 35,
   "id": "5315630a",
   "metadata": {},
   "outputs": [
    {
     "name": "stdout",
     "output_type": "stream",
     "text": [
      "<class 'pandas.core.frame.DataFrame'>\n",
      "RangeIndex: 4024 entries, 0 to 4023\n",
      "Data columns (total 30 columns):\n",
      " #   Column                               Non-Null Count  Dtype\n",
      "---  ------                               --------------  -----\n",
      " 0   Age                                  4024 non-null   int64\n",
      " 1   Tumor Size                           4024 non-null   int64\n",
      " 2   Regional Node Examined               4024 non-null   int64\n",
      " 3   Reginol Node Positive                4024 non-null   int64\n",
      " 4   Survival Months                      4024 non-null   int64\n",
      " 5   Race_Other                           4024 non-null   uint8\n",
      " 6   Race_White                           4024 non-null   uint8\n",
      " 7   Grade_1                              4024 non-null   uint8\n",
      " 8   Grade_2                              4024 non-null   uint8\n",
      " 9   Grade_3                              4024 non-null   uint8\n",
      " 10  Marital Status_Married               4024 non-null   uint8\n",
      " 11  Marital Status_Separated             4024 non-null   uint8\n",
      " 12  Marital Status_Single                4024 non-null   uint8\n",
      " 13  Marital Status_Widowed               4024 non-null   uint8\n",
      " 14  T Stage _T2                          4024 non-null   uint8\n",
      " 15  T Stage _T3                          4024 non-null   uint8\n",
      " 16  T Stage _T4                          4024 non-null   uint8\n",
      " 17  N Stage_N2                           4024 non-null   uint8\n",
      " 18  N Stage_N3                           4024 non-null   uint8\n",
      " 19  6th Stage_IIB                        4024 non-null   uint8\n",
      " 20  6th Stage_IIIA                       4024 non-null   uint8\n",
      " 21  6th Stage_IIIB                       4024 non-null   uint8\n",
      " 22  6th Stage_IIIC                       4024 non-null   uint8\n",
      " 23  differentiate_Poorly differentiated  4024 non-null   uint8\n",
      " 24  differentiate_Undifferentiated       4024 non-null   uint8\n",
      " 25  differentiate_Well differentiated    4024 non-null   uint8\n",
      " 26  A Stage_Regional                     4024 non-null   uint8\n",
      " 27  Estrogen Status_Positive             4024 non-null   uint8\n",
      " 28  Progesterone Status_Positive         4024 non-null   uint8\n",
      " 29  Status_Dead                          4024 non-null   uint8\n",
      "dtypes: int64(5), uint8(25)\n",
      "memory usage: 255.6 KB\n"
     ]
    }
   ],
   "source": [
    "one_hot_encoded_data.info()"
   ]
  },
  {
   "cell_type": "code",
   "execution_count": 36,
   "id": "25ca9620",
   "metadata": {},
   "outputs": [],
   "source": [
    "from sklearn.model_selection import train_test_split"
   ]
  },
  {
   "cell_type": "code",
   "execution_count": 37,
   "id": "35b76956",
   "metadata": {},
   "outputs": [],
   "source": [
    "X= pd.DataFrame(one_hot_encoded_data,columns=one_hot_encoded_data.columns[:-2])\n",
    "y=one_hot_encoded_data['Status_Dead']\n",
    "X_train, X_test, y_train, y_test = train_test_split(X, y, test_size=0.3, random_state=205)"
   ]
  },
  {
   "cell_type": "raw",
   "id": "0ad347b6",
   "metadata": {},
   "source": []
  },
  {
   "cell_type": "code",
   "execution_count": 38,
   "id": "b6b1550d",
   "metadata": {},
   "outputs": [],
   "source": [
    "from sklearn.svm import SVC"
   ]
  },
  {
   "cell_type": "code",
   "execution_count": 39,
   "id": "1484f9c3",
   "metadata": {},
   "outputs": [],
   "source": [
    "model=SVC()"
   ]
  },
  {
   "cell_type": "code",
   "execution_count": 40,
   "id": "bec95387",
   "metadata": {},
   "outputs": [
    {
     "data": {
      "text/plain": [
       "SVC()"
      ]
     },
     "execution_count": 40,
     "metadata": {},
     "output_type": "execute_result"
    }
   ],
   "source": [
    "model.fit(X_train,y_train)"
   ]
  },
  {
   "cell_type": "code",
   "execution_count": 41,
   "id": "09df376c",
   "metadata": {},
   "outputs": [],
   "source": [
    "predictions=model.predict(X_test)\n",
    "from sklearn.metrics import classification_report,confusion_matrix\n"
   ]
  },
  {
   "cell_type": "code",
   "execution_count": 42,
   "id": "87333bcc",
   "metadata": {},
   "outputs": [
    {
     "name": "stdout",
     "output_type": "stream",
     "text": [
      "[[1012   16]\n",
      " [ 120   60]]\n"
     ]
    }
   ],
   "source": [
    "print(confusion_matrix(y_test,predictions))"
   ]
  },
  {
   "cell_type": "code",
   "execution_count": 43,
   "id": "4b1ee44a",
   "metadata": {},
   "outputs": [
    {
     "data": {
      "text/plain": [
       "0.8852982954545454"
      ]
     },
     "execution_count": 43,
     "metadata": {},
     "output_type": "execute_result"
    }
   ],
   "source": [
    "model.score(X_train,y_train)"
   ]
  },
  {
   "cell_type": "code",
   "execution_count": 44,
   "id": "39523054",
   "metadata": {},
   "outputs": [
    {
     "data": {
      "text/plain": [
       "0.8874172185430463"
      ]
     },
     "execution_count": 44,
     "metadata": {},
     "output_type": "execute_result"
    }
   ],
   "source": [
    "model.score(X_test,y_test)"
   ]
  },
  {
   "cell_type": "code",
   "execution_count": 45,
   "id": "cd913ff7",
   "metadata": {},
   "outputs": [
    {
     "name": "stdout",
     "output_type": "stream",
     "text": [
      "              precision    recall  f1-score   support\n",
      "\n",
      "           0       0.89      0.98      0.94      1028\n",
      "           1       0.79      0.33      0.47       180\n",
      "\n",
      "    accuracy                           0.89      1208\n",
      "   macro avg       0.84      0.66      0.70      1208\n",
      "weighted avg       0.88      0.89      0.87      1208\n",
      "\n"
     ]
    }
   ],
   "source": [
    "print(classification_report(y_test,predictions))"
   ]
  },
  {
   "cell_type": "markdown",
   "id": "f921c0c6",
   "metadata": {},
   "source": [
    "## We don't feel it satisfactory enough.\n",
    "\n",
    "\n",
    "Observe that our type 2 error is way beyond LOS.\n",
    "\n",
    "This means our models need to be adjusted.\n"
   ]
  },
  {
   "cell_type": "markdown",
   "id": "65a64fcc",
   "metadata": {},
   "source": [
    "# USING GRIDSEARCH\n",
    "We need to have the parameters adjusted using Gridsearch.\n",
    "This idea of creating a 'grid' of parameters and just trying out all the possible combinations is called a Gridsearch, this method is common enough that Scikit-learn has this functionality built in with GridSearchCV! The CV stands for cross-validation which is the\n",
    "\n",
    "GridSearchCV takes a dictionary that describes the parameters that should be tried and a model to train. The grid of parameters is defined as a dictionary, where the keys are the parameters and the values are the settings to be tested."
   ]
  },
  {
   "cell_type": "code",
   "execution_count": 46,
   "id": "885f5484",
   "metadata": {},
   "outputs": [],
   "source": [
    "param_grid = {'C': [0.1,1, 10, 100, 1000,10000], 'gamma': [1,0.1,0.01,0.001,0.0001], 'kernel': ['rbf']} "
   ]
  },
  {
   "cell_type": "code",
   "execution_count": 47,
   "id": "3fdfea4b",
   "metadata": {},
   "outputs": [],
   "source": [
    "from sklearn.model_selection import GridSearchCV"
   ]
  },
  {
   "cell_type": "code",
   "execution_count": 48,
   "id": "e97ee4c7",
   "metadata": {},
   "outputs": [],
   "source": [
    "grid= GridSearchCV(SVC(),param_grid,refit=True,verbose=10)"
   ]
  },
  {
   "cell_type": "code",
   "execution_count": 49,
   "id": "48902935",
   "metadata": {},
   "outputs": [
    {
     "name": "stdout",
     "output_type": "stream",
     "text": [
      "Fitting 5 folds for each of 30 candidates, totalling 150 fits\n",
      "[CV 1/5; 1/30] START C=0.1, gamma=1, kernel=rbf.................................\n",
      "[CV 1/5; 1/30] END ..C=0.1, gamma=1, kernel=rbf;, score=0.844 total time=   0.9s\n",
      "[CV 2/5; 1/30] START C=0.1, gamma=1, kernel=rbf.................................\n",
      "[CV 2/5; 1/30] END ..C=0.1, gamma=1, kernel=rbf;, score=0.845 total time=   0.9s\n",
      "[CV 3/5; 1/30] START C=0.1, gamma=1, kernel=rbf.................................\n",
      "[CV 3/5; 1/30] END ..C=0.1, gamma=1, kernel=rbf;, score=0.845 total time=   1.0s\n",
      "[CV 4/5; 1/30] START C=0.1, gamma=1, kernel=rbf.................................\n",
      "[CV 4/5; 1/30] END ..C=0.1, gamma=1, kernel=rbf;, score=0.845 total time=   1.0s\n",
      "[CV 5/5; 1/30] START C=0.1, gamma=1, kernel=rbf.................................\n",
      "[CV 5/5; 1/30] END ..C=0.1, gamma=1, kernel=rbf;, score=0.845 total time=   1.0s\n",
      "[CV 1/5; 2/30] START C=0.1, gamma=0.1, kernel=rbf...............................\n",
      "[CV 1/5; 2/30] END C=0.1, gamma=0.1, kernel=rbf;, score=0.844 total time=   0.6s\n",
      "[CV 2/5; 2/30] START C=0.1, gamma=0.1, kernel=rbf...............................\n",
      "[CV 2/5; 2/30] END C=0.1, gamma=0.1, kernel=rbf;, score=0.845 total time=   0.5s\n",
      "[CV 3/5; 2/30] START C=0.1, gamma=0.1, kernel=rbf...............................\n",
      "[CV 3/5; 2/30] END C=0.1, gamma=0.1, kernel=rbf;, score=0.845 total time=   0.5s\n",
      "[CV 4/5; 2/30] START C=0.1, gamma=0.1, kernel=rbf...............................\n",
      "[CV 4/5; 2/30] END C=0.1, gamma=0.1, kernel=rbf;, score=0.845 total time=   0.6s\n",
      "[CV 5/5; 2/30] START C=0.1, gamma=0.1, kernel=rbf...............................\n",
      "[CV 5/5; 2/30] END C=0.1, gamma=0.1, kernel=rbf;, score=0.845 total time=   0.6s\n",
      "[CV 1/5; 3/30] START C=0.1, gamma=0.01, kernel=rbf..............................\n",
      "[CV 1/5; 3/30] END C=0.1, gamma=0.01, kernel=rbf;, score=0.844 total time=   0.3s\n",
      "[CV 2/5; 3/30] START C=0.1, gamma=0.01, kernel=rbf..............................\n",
      "[CV 2/5; 3/30] END C=0.1, gamma=0.01, kernel=rbf;, score=0.845 total time=   0.3s\n",
      "[CV 3/5; 3/30] START C=0.1, gamma=0.01, kernel=rbf..............................\n",
      "[CV 3/5; 3/30] END C=0.1, gamma=0.01, kernel=rbf;, score=0.845 total time=   0.3s\n",
      "[CV 4/5; 3/30] START C=0.1, gamma=0.01, kernel=rbf..............................\n",
      "[CV 4/5; 3/30] END C=0.1, gamma=0.01, kernel=rbf;, score=0.845 total time=   0.3s\n",
      "[CV 5/5; 3/30] START C=0.1, gamma=0.01, kernel=rbf..............................\n",
      "[CV 5/5; 3/30] END C=0.1, gamma=0.01, kernel=rbf;, score=0.845 total time=   0.3s\n",
      "[CV 1/5; 4/30] START C=0.1, gamma=0.001, kernel=rbf.............................\n",
      "[CV 1/5; 4/30] END C=0.1, gamma=0.001, kernel=rbf;, score=0.902 total time=   0.1s\n",
      "[CV 2/5; 4/30] START C=0.1, gamma=0.001, kernel=rbf.............................\n",
      "[CV 2/5; 4/30] END C=0.1, gamma=0.001, kernel=rbf;, score=0.892 total time=   0.1s\n",
      "[CV 3/5; 4/30] START C=0.1, gamma=0.001, kernel=rbf.............................\n",
      "[CV 3/5; 4/30] END C=0.1, gamma=0.001, kernel=rbf;, score=0.872 total time=   0.1s\n",
      "[CV 4/5; 4/30] START C=0.1, gamma=0.001, kernel=rbf.............................\n",
      "[CV 4/5; 4/30] END C=0.1, gamma=0.001, kernel=rbf;, score=0.877 total time=   0.1s\n",
      "[CV 5/5; 4/30] START C=0.1, gamma=0.001, kernel=rbf.............................\n",
      "[CV 5/5; 4/30] END C=0.1, gamma=0.001, kernel=rbf;, score=0.888 total time=   0.1s\n",
      "[CV 1/5; 5/30] START C=0.1, gamma=0.0001, kernel=rbf............................\n",
      "[CV 1/5; 5/30] END C=0.1, gamma=0.0001, kernel=rbf;, score=0.860 total time=   0.1s\n",
      "[CV 2/5; 5/30] START C=0.1, gamma=0.0001, kernel=rbf............................\n",
      "[CV 2/5; 5/30] END C=0.1, gamma=0.0001, kernel=rbf;, score=0.856 total time=   0.1s\n",
      "[CV 3/5; 5/30] START C=0.1, gamma=0.0001, kernel=rbf............................\n",
      "[CV 3/5; 5/30] END C=0.1, gamma=0.0001, kernel=rbf;, score=0.861 total time=   0.1s\n",
      "[CV 4/5; 5/30] START C=0.1, gamma=0.0001, kernel=rbf............................\n",
      "[CV 4/5; 5/30] END C=0.1, gamma=0.0001, kernel=rbf;, score=0.865 total time=   0.1s\n",
      "[CV 5/5; 5/30] START C=0.1, gamma=0.0001, kernel=rbf............................\n",
      "[CV 5/5; 5/30] END C=0.1, gamma=0.0001, kernel=rbf;, score=0.861 total time=   0.1s\n",
      "[CV 1/5; 6/30] START C=1, gamma=1, kernel=rbf...................................\n",
      "[CV 1/5; 6/30] END ....C=1, gamma=1, kernel=rbf;, score=0.844 total time=   1.0s\n",
      "[CV 2/5; 6/30] START C=1, gamma=1, kernel=rbf...................................\n",
      "[CV 2/5; 6/30] END ....C=1, gamma=1, kernel=rbf;, score=0.845 total time=   0.9s\n",
      "[CV 3/5; 6/30] START C=1, gamma=1, kernel=rbf...................................\n",
      "[CV 3/5; 6/30] END ....C=1, gamma=1, kernel=rbf;, score=0.845 total time=   0.9s\n",
      "[CV 4/5; 6/30] START C=1, gamma=1, kernel=rbf...................................\n",
      "[CV 4/5; 6/30] END ....C=1, gamma=1, kernel=rbf;, score=0.845 total time=   1.0s\n",
      "[CV 5/5; 6/30] START C=1, gamma=1, kernel=rbf...................................\n",
      "[CV 5/5; 6/30] END ....C=1, gamma=1, kernel=rbf;, score=0.845 total time=   1.0s\n",
      "[CV 1/5; 7/30] START C=1, gamma=0.1, kernel=rbf.................................\n",
      "[CV 1/5; 7/30] END ..C=1, gamma=0.1, kernel=rbf;, score=0.844 total time=   0.5s\n",
      "[CV 2/5; 7/30] START C=1, gamma=0.1, kernel=rbf.................................\n",
      "[CV 2/5; 7/30] END ..C=1, gamma=0.1, kernel=rbf;, score=0.845 total time=   0.5s\n",
      "[CV 3/5; 7/30] START C=1, gamma=0.1, kernel=rbf.................................\n",
      "[CV 3/5; 7/30] END ..C=1, gamma=0.1, kernel=rbf;, score=0.845 total time=   0.6s\n",
      "[CV 4/5; 7/30] START C=1, gamma=0.1, kernel=rbf.................................\n",
      "[CV 4/5; 7/30] END ..C=1, gamma=0.1, kernel=rbf;, score=0.845 total time=   0.6s\n",
      "[CV 5/5; 7/30] START C=1, gamma=0.1, kernel=rbf.................................\n",
      "[CV 5/5; 7/30] END ..C=1, gamma=0.1, kernel=rbf;, score=0.845 total time=   0.6s\n",
      "[CV 1/5; 8/30] START C=1, gamma=0.01, kernel=rbf................................\n",
      "[CV 1/5; 8/30] END .C=1, gamma=0.01, kernel=rbf;, score=0.879 total time=   0.3s\n",
      "[CV 2/5; 8/30] START C=1, gamma=0.01, kernel=rbf................................\n",
      "[CV 2/5; 8/30] END .C=1, gamma=0.01, kernel=rbf;, score=0.893 total time=   0.3s\n",
      "[CV 3/5; 8/30] START C=1, gamma=0.01, kernel=rbf................................\n",
      "[CV 3/5; 8/30] END .C=1, gamma=0.01, kernel=rbf;, score=0.865 total time=   0.3s\n",
      "[CV 4/5; 8/30] START C=1, gamma=0.01, kernel=rbf................................\n",
      "[CV 4/5; 8/30] END .C=1, gamma=0.01, kernel=rbf;, score=0.881 total time=   0.2s\n",
      "[CV 5/5; 8/30] START C=1, gamma=0.01, kernel=rbf................................\n",
      "[CV 5/5; 8/30] END .C=1, gamma=0.01, kernel=rbf;, score=0.886 total time=   0.3s\n",
      "[CV 1/5; 9/30] START C=1, gamma=0.001, kernel=rbf...............................\n",
      "[CV 1/5; 9/30] END C=1, gamma=0.001, kernel=rbf;, score=0.899 total time=   0.1s\n",
      "[CV 2/5; 9/30] START C=1, gamma=0.001, kernel=rbf...............................\n",
      "[CV 2/5; 9/30] END C=1, gamma=0.001, kernel=rbf;, score=0.897 total time=   0.1s\n",
      "[CV 3/5; 9/30] START C=1, gamma=0.001, kernel=rbf...............................\n",
      "[CV 3/5; 9/30] END C=1, gamma=0.001, kernel=rbf;, score=0.881 total time=   0.1s\n",
      "[CV 4/5; 9/30] START C=1, gamma=0.001, kernel=rbf...............................\n",
      "[CV 4/5; 9/30] END C=1, gamma=0.001, kernel=rbf;, score=0.879 total time=   0.1s\n",
      "[CV 5/5; 9/30] START C=1, gamma=0.001, kernel=rbf...............................\n",
      "[CV 5/5; 9/30] END C=1, gamma=0.001, kernel=rbf;, score=0.897 total time=   0.1s\n",
      "[CV 1/5; 10/30] START C=1, gamma=0.0001, kernel=rbf.............................\n",
      "[CV 1/5; 10/30] END C=1, gamma=0.0001, kernel=rbf;, score=0.895 total time=   0.1s\n",
      "[CV 2/5; 10/30] START C=1, gamma=0.0001, kernel=rbf.............................\n",
      "[CV 2/5; 10/30] END C=1, gamma=0.0001, kernel=rbf;, score=0.890 total time=   0.1s\n",
      "[CV 3/5; 10/30] START C=1, gamma=0.0001, kernel=rbf.............................\n",
      "[CV 3/5; 10/30] END C=1, gamma=0.0001, kernel=rbf;, score=0.876 total time=   0.1s\n",
      "[CV 4/5; 10/30] START C=1, gamma=0.0001, kernel=rbf.............................\n",
      "[CV 4/5; 10/30] END C=1, gamma=0.0001, kernel=rbf;, score=0.876 total time=   0.1s\n",
      "[CV 5/5; 10/30] START C=1, gamma=0.0001, kernel=rbf.............................\n",
      "[CV 5/5; 10/30] END C=1, gamma=0.0001, kernel=rbf;, score=0.886 total time=   0.1s\n",
      "[CV 1/5; 11/30] START C=10, gamma=1, kernel=rbf.................................\n"
     ]
    },
    {
     "name": "stdout",
     "output_type": "stream",
     "text": [
      "[CV 1/5; 11/30] END ..C=10, gamma=1, kernel=rbf;, score=0.844 total time=   1.0s\n",
      "[CV 2/5; 11/30] START C=10, gamma=1, kernel=rbf.................................\n",
      "[CV 2/5; 11/30] END ..C=10, gamma=1, kernel=rbf;, score=0.845 total time=   1.0s\n",
      "[CV 3/5; 11/30] START C=10, gamma=1, kernel=rbf.................................\n",
      "[CV 3/5; 11/30] END ..C=10, gamma=1, kernel=rbf;, score=0.845 total time=   1.1s\n",
      "[CV 4/5; 11/30] START C=10, gamma=1, kernel=rbf.................................\n",
      "[CV 4/5; 11/30] END ..C=10, gamma=1, kernel=rbf;, score=0.845 total time=   1.0s\n",
      "[CV 5/5; 11/30] START C=10, gamma=1, kernel=rbf.................................\n",
      "[CV 5/5; 11/30] END ..C=10, gamma=1, kernel=rbf;, score=0.845 total time=   1.0s\n",
      "[CV 1/5; 12/30] START C=10, gamma=0.1, kernel=rbf...............................\n",
      "[CV 1/5; 12/30] END C=10, gamma=0.1, kernel=rbf;, score=0.844 total time=   0.6s\n",
      "[CV 2/5; 12/30] START C=10, gamma=0.1, kernel=rbf...............................\n",
      "[CV 2/5; 12/30] END C=10, gamma=0.1, kernel=rbf;, score=0.842 total time=   0.6s\n",
      "[CV 3/5; 12/30] START C=10, gamma=0.1, kernel=rbf...............................\n",
      "[CV 3/5; 12/30] END C=10, gamma=0.1, kernel=rbf;, score=0.842 total time=   0.6s\n",
      "[CV 4/5; 12/30] START C=10, gamma=0.1, kernel=rbf...............................\n",
      "[CV 4/5; 12/30] END C=10, gamma=0.1, kernel=rbf;, score=0.840 total time=   0.6s\n",
      "[CV 5/5; 12/30] START C=10, gamma=0.1, kernel=rbf...............................\n",
      "[CV 5/5; 12/30] END C=10, gamma=0.1, kernel=rbf;, score=0.842 total time=   0.7s\n",
      "[CV 1/5; 13/30] START C=10, gamma=0.01, kernel=rbf..............................\n",
      "[CV 1/5; 13/30] END C=10, gamma=0.01, kernel=rbf;, score=0.840 total time=   0.3s\n",
      "[CV 2/5; 13/30] START C=10, gamma=0.01, kernel=rbf..............................\n",
      "[CV 2/5; 13/30] END C=10, gamma=0.01, kernel=rbf;, score=0.865 total time=   0.3s\n",
      "[CV 3/5; 13/30] START C=10, gamma=0.01, kernel=rbf..............................\n",
      "[CV 3/5; 13/30] END C=10, gamma=0.01, kernel=rbf;, score=0.854 total time=   0.3s\n",
      "[CV 4/5; 13/30] START C=10, gamma=0.01, kernel=rbf..............................\n",
      "[CV 4/5; 13/30] END C=10, gamma=0.01, kernel=rbf;, score=0.860 total time=   0.3s\n",
      "[CV 5/5; 13/30] START C=10, gamma=0.01, kernel=rbf..............................\n",
      "[CV 5/5; 13/30] END C=10, gamma=0.01, kernel=rbf;, score=0.849 total time=   0.3s\n",
      "[CV 1/5; 14/30] START C=10, gamma=0.001, kernel=rbf.............................\n",
      "[CV 1/5; 14/30] END C=10, gamma=0.001, kernel=rbf;, score=0.894 total time=   0.3s\n",
      "[CV 2/5; 14/30] START C=10, gamma=0.001, kernel=rbf.............................\n",
      "[CV 2/5; 14/30] END C=10, gamma=0.001, kernel=rbf;, score=0.893 total time=   0.3s\n",
      "[CV 3/5; 14/30] START C=10, gamma=0.001, kernel=rbf.............................\n",
      "[CV 3/5; 14/30] END C=10, gamma=0.001, kernel=rbf;, score=0.888 total time=   0.2s\n",
      "[CV 4/5; 14/30] START C=10, gamma=0.001, kernel=rbf.............................\n",
      "[CV 4/5; 14/30] END C=10, gamma=0.001, kernel=rbf;, score=0.886 total time=   0.2s\n",
      "[CV 5/5; 14/30] START C=10, gamma=0.001, kernel=rbf.............................\n",
      "[CV 5/5; 14/30] END C=10, gamma=0.001, kernel=rbf;, score=0.897 total time=   0.2s\n",
      "[CV 1/5; 15/30] START C=10, gamma=0.0001, kernel=rbf............................\n",
      "[CV 1/5; 15/30] END C=10, gamma=0.0001, kernel=rbf;, score=0.899 total time=   0.1s\n",
      "[CV 2/5; 15/30] START C=10, gamma=0.0001, kernel=rbf............................\n",
      "[CV 2/5; 15/30] END C=10, gamma=0.0001, kernel=rbf;, score=0.888 total time=   0.2s\n",
      "[CV 3/5; 15/30] START C=10, gamma=0.0001, kernel=rbf............................\n",
      "[CV 3/5; 15/30] END C=10, gamma=0.0001, kernel=rbf;, score=0.877 total time=   0.1s\n",
      "[CV 4/5; 15/30] START C=10, gamma=0.0001, kernel=rbf............................\n",
      "[CV 4/5; 15/30] END C=10, gamma=0.0001, kernel=rbf;, score=0.879 total time=   0.1s\n",
      "[CV 5/5; 15/30] START C=10, gamma=0.0001, kernel=rbf............................\n",
      "[CV 5/5; 15/30] END C=10, gamma=0.0001, kernel=rbf;, score=0.886 total time=   0.1s\n",
      "[CV 1/5; 16/30] START C=100, gamma=1, kernel=rbf................................\n",
      "[CV 1/5; 16/30] END .C=100, gamma=1, kernel=rbf;, score=0.844 total time=   1.1s\n",
      "[CV 2/5; 16/30] START C=100, gamma=1, kernel=rbf................................\n",
      "[CV 2/5; 16/30] END .C=100, gamma=1, kernel=rbf;, score=0.845 total time=   1.1s\n",
      "[CV 3/5; 16/30] START C=100, gamma=1, kernel=rbf................................\n",
      "[CV 3/5; 16/30] END .C=100, gamma=1, kernel=rbf;, score=0.845 total time=   1.1s\n",
      "[CV 4/5; 16/30] START C=100, gamma=1, kernel=rbf................................\n",
      "[CV 4/5; 16/30] END .C=100, gamma=1, kernel=rbf;, score=0.845 total time=   1.1s\n",
      "[CV 5/5; 16/30] START C=100, gamma=1, kernel=rbf................................\n",
      "[CV 5/5; 16/30] END .C=100, gamma=1, kernel=rbf;, score=0.845 total time=   1.1s\n",
      "[CV 1/5; 17/30] START C=100, gamma=0.1, kernel=rbf..............................\n",
      "[CV 1/5; 17/30] END C=100, gamma=0.1, kernel=rbf;, score=0.844 total time=   0.7s\n",
      "[CV 2/5; 17/30] START C=100, gamma=0.1, kernel=rbf..............................\n",
      "[CV 2/5; 17/30] END C=100, gamma=0.1, kernel=rbf;, score=0.842 total time=   0.6s\n",
      "[CV 3/5; 17/30] START C=100, gamma=0.1, kernel=rbf..............................\n",
      "[CV 3/5; 17/30] END C=100, gamma=0.1, kernel=rbf;, score=0.842 total time=   0.7s\n",
      "[CV 4/5; 17/30] START C=100, gamma=0.1, kernel=rbf..............................\n",
      "[CV 4/5; 17/30] END C=100, gamma=0.1, kernel=rbf;, score=0.840 total time=   0.6s\n",
      "[CV 5/5; 17/30] START C=100, gamma=0.1, kernel=rbf..............................\n",
      "[CV 5/5; 17/30] END C=100, gamma=0.1, kernel=rbf;, score=0.842 total time=   0.6s\n",
      "[CV 1/5; 18/30] START C=100, gamma=0.01, kernel=rbf.............................\n",
      "[CV 1/5; 18/30] END C=100, gamma=0.01, kernel=rbf;, score=0.803 total time=   0.3s\n",
      "[CV 2/5; 18/30] START C=100, gamma=0.01, kernel=rbf.............................\n",
      "[CV 2/5; 18/30] END C=100, gamma=0.01, kernel=rbf;, score=0.842 total time=   0.3s\n",
      "[CV 3/5; 18/30] START C=100, gamma=0.01, kernel=rbf.............................\n",
      "[CV 3/5; 18/30] END C=100, gamma=0.01, kernel=rbf;, score=0.840 total time=   0.3s\n",
      "[CV 4/5; 18/30] START C=100, gamma=0.01, kernel=rbf.............................\n",
      "[CV 4/5; 18/30] END C=100, gamma=0.01, kernel=rbf;, score=0.833 total time=   0.3s\n",
      "[CV 5/5; 18/30] START C=100, gamma=0.01, kernel=rbf.............................\n",
      "[CV 5/5; 18/30] END C=100, gamma=0.01, kernel=rbf;, score=0.829 total time=   0.3s\n",
      "[CV 1/5; 19/30] START C=100, gamma=0.001, kernel=rbf............................\n",
      "[CV 1/5; 19/30] END C=100, gamma=0.001, kernel=rbf;, score=0.890 total time=   0.5s\n",
      "[CV 2/5; 19/30] START C=100, gamma=0.001, kernel=rbf............................\n",
      "[CV 2/5; 19/30] END C=100, gamma=0.001, kernel=rbf;, score=0.892 total time=   0.6s\n",
      "[CV 3/5; 19/30] START C=100, gamma=0.001, kernel=rbf............................\n",
      "[CV 3/5; 19/30] END C=100, gamma=0.001, kernel=rbf;, score=0.883 total time=   0.5s\n",
      "[CV 4/5; 19/30] START C=100, gamma=0.001, kernel=rbf............................\n",
      "[CV 4/5; 19/30] END C=100, gamma=0.001, kernel=rbf;, score=0.886 total time=   0.5s\n",
      "[CV 5/5; 19/30] START C=100, gamma=0.001, kernel=rbf............................\n",
      "[CV 5/5; 19/30] END C=100, gamma=0.001, kernel=rbf;, score=0.888 total time=   0.6s\n",
      "[CV 1/5; 20/30] START C=100, gamma=0.0001, kernel=rbf...........................\n",
      "[CV 1/5; 20/30] END C=100, gamma=0.0001, kernel=rbf;, score=0.899 total time=   0.2s\n",
      "[CV 2/5; 20/30] START C=100, gamma=0.0001, kernel=rbf...........................\n",
      "[CV 2/5; 20/30] END C=100, gamma=0.0001, kernel=rbf;, score=0.892 total time=   0.2s\n",
      "[CV 3/5; 20/30] START C=100, gamma=0.0001, kernel=rbf...........................\n",
      "[CV 3/5; 20/30] END C=100, gamma=0.0001, kernel=rbf;, score=0.879 total time=   0.2s\n",
      "[CV 4/5; 20/30] START C=100, gamma=0.0001, kernel=rbf...........................\n",
      "[CV 4/5; 20/30] END C=100, gamma=0.0001, kernel=rbf;, score=0.876 total time=   0.3s\n",
      "[CV 5/5; 20/30] START C=100, gamma=0.0001, kernel=rbf...........................\n",
      "[CV 5/5; 20/30] END C=100, gamma=0.0001, kernel=rbf;, score=0.892 total time=   0.3s\n",
      "[CV 1/5; 21/30] START C=1000, gamma=1, kernel=rbf...............................\n",
      "[CV 1/5; 21/30] END C=1000, gamma=1, kernel=rbf;, score=0.844 total time=   1.0s\n",
      "[CV 2/5; 21/30] START C=1000, gamma=1, kernel=rbf...............................\n"
     ]
    },
    {
     "name": "stdout",
     "output_type": "stream",
     "text": [
      "[CV 2/5; 21/30] END C=1000, gamma=1, kernel=rbf;, score=0.845 total time=   1.2s\n",
      "[CV 3/5; 21/30] START C=1000, gamma=1, kernel=rbf...............................\n",
      "[CV 3/5; 21/30] END C=1000, gamma=1, kernel=rbf;, score=0.845 total time=   1.1s\n",
      "[CV 4/5; 21/30] START C=1000, gamma=1, kernel=rbf...............................\n",
      "[CV 4/5; 21/30] END C=1000, gamma=1, kernel=rbf;, score=0.845 total time=   1.2s\n",
      "[CV 5/5; 21/30] START C=1000, gamma=1, kernel=rbf...............................\n",
      "[CV 5/5; 21/30] END C=1000, gamma=1, kernel=rbf;, score=0.845 total time=   1.1s\n",
      "[CV 1/5; 22/30] START C=1000, gamma=0.1, kernel=rbf.............................\n",
      "[CV 1/5; 22/30] END C=1000, gamma=0.1, kernel=rbf;, score=0.844 total time=   0.7s\n",
      "[CV 2/5; 22/30] START C=1000, gamma=0.1, kernel=rbf.............................\n",
      "[CV 2/5; 22/30] END C=1000, gamma=0.1, kernel=rbf;, score=0.842 total time=   0.7s\n",
      "[CV 3/5; 22/30] START C=1000, gamma=0.1, kernel=rbf.............................\n",
      "[CV 3/5; 22/30] END C=1000, gamma=0.1, kernel=rbf;, score=0.842 total time=   0.7s\n",
      "[CV 4/5; 22/30] START C=1000, gamma=0.1, kernel=rbf.............................\n",
      "[CV 4/5; 22/30] END C=1000, gamma=0.1, kernel=rbf;, score=0.840 total time=   0.7s\n",
      "[CV 5/5; 22/30] START C=1000, gamma=0.1, kernel=rbf.............................\n",
      "[CV 5/5; 22/30] END C=1000, gamma=0.1, kernel=rbf;, score=0.842 total time=   0.7s\n",
      "[CV 1/5; 23/30] START C=1000, gamma=0.01, kernel=rbf............................\n",
      "[CV 1/5; 23/30] END C=1000, gamma=0.01, kernel=rbf;, score=0.803 total time=   0.3s\n",
      "[CV 2/5; 23/30] START C=1000, gamma=0.01, kernel=rbf............................\n",
      "[CV 2/5; 23/30] END C=1000, gamma=0.01, kernel=rbf;, score=0.838 total time=   0.3s\n",
      "[CV 3/5; 23/30] START C=1000, gamma=0.01, kernel=rbf............................\n",
      "[CV 3/5; 23/30] END C=1000, gamma=0.01, kernel=rbf;, score=0.838 total time=   0.3s\n",
      "[CV 4/5; 23/30] START C=1000, gamma=0.01, kernel=rbf............................\n",
      "[CV 4/5; 23/30] END C=1000, gamma=0.01, kernel=rbf;, score=0.828 total time=   0.3s\n",
      "[CV 5/5; 23/30] START C=1000, gamma=0.01, kernel=rbf............................\n",
      "[CV 5/5; 23/30] END C=1000, gamma=0.01, kernel=rbf;, score=0.821 total time=   0.3s\n",
      "[CV 1/5; 24/30] START C=1000, gamma=0.001, kernel=rbf...........................\n",
      "[CV 1/5; 24/30] END C=1000, gamma=0.001, kernel=rbf;, score=0.855 total time=   1.7s\n",
      "[CV 2/5; 24/30] START C=1000, gamma=0.001, kernel=rbf...........................\n",
      "[CV 2/5; 24/30] END C=1000, gamma=0.001, kernel=rbf;, score=0.861 total time=   1.6s\n",
      "[CV 3/5; 24/30] START C=1000, gamma=0.001, kernel=rbf...........................\n",
      "[CV 3/5; 24/30] END C=1000, gamma=0.001, kernel=rbf;, score=0.863 total time=   1.6s\n",
      "[CV 4/5; 24/30] START C=1000, gamma=0.001, kernel=rbf...........................\n",
      "[CV 4/5; 24/30] END C=1000, gamma=0.001, kernel=rbf;, score=0.860 total time=   1.6s\n",
      "[CV 5/5; 24/30] START C=1000, gamma=0.001, kernel=rbf...........................\n",
      "[CV 5/5; 24/30] END C=1000, gamma=0.001, kernel=rbf;, score=0.861 total time=   1.7s\n",
      "[CV 1/5; 25/30] START C=1000, gamma=0.0001, kernel=rbf..........................\n",
      "[CV 1/5; 25/30] END C=1000, gamma=0.0001, kernel=rbf;, score=0.902 total time=   0.8s\n",
      "[CV 2/5; 25/30] START C=1000, gamma=0.0001, kernel=rbf..........................\n",
      "[CV 2/5; 25/30] END C=1000, gamma=0.0001, kernel=rbf;, score=0.901 total time=   0.8s\n",
      "[CV 3/5; 25/30] START C=1000, gamma=0.0001, kernel=rbf..........................\n",
      "[CV 3/5; 25/30] END C=1000, gamma=0.0001, kernel=rbf;, score=0.879 total time=   0.9s\n",
      "[CV 4/5; 25/30] START C=1000, gamma=0.0001, kernel=rbf..........................\n",
      "[CV 4/5; 25/30] END C=1000, gamma=0.0001, kernel=rbf;, score=0.877 total time=   0.8s\n",
      "[CV 5/5; 25/30] START C=1000, gamma=0.0001, kernel=rbf..........................\n",
      "[CV 5/5; 25/30] END C=1000, gamma=0.0001, kernel=rbf;, score=0.895 total time=   0.9s\n",
      "[CV 1/5; 26/30] START C=10000, gamma=1, kernel=rbf..............................\n",
      "[CV 1/5; 26/30] END C=10000, gamma=1, kernel=rbf;, score=0.844 total time=   1.2s\n",
      "[CV 2/5; 26/30] START C=10000, gamma=1, kernel=rbf..............................\n",
      "[CV 2/5; 26/30] END C=10000, gamma=1, kernel=rbf;, score=0.845 total time=   1.1s\n",
      "[CV 3/5; 26/30] START C=10000, gamma=1, kernel=rbf..............................\n",
      "[CV 3/5; 26/30] END C=10000, gamma=1, kernel=rbf;, score=0.845 total time=   1.1s\n",
      "[CV 4/5; 26/30] START C=10000, gamma=1, kernel=rbf..............................\n",
      "[CV 4/5; 26/30] END C=10000, gamma=1, kernel=rbf;, score=0.845 total time=   1.1s\n",
      "[CV 5/5; 26/30] START C=10000, gamma=1, kernel=rbf..............................\n",
      "[CV 5/5; 26/30] END C=10000, gamma=1, kernel=rbf;, score=0.845 total time=   1.2s\n",
      "[CV 1/5; 27/30] START C=10000, gamma=0.1, kernel=rbf............................\n",
      "[CV 1/5; 27/30] END C=10000, gamma=0.1, kernel=rbf;, score=0.844 total time=   0.7s\n",
      "[CV 2/5; 27/30] START C=10000, gamma=0.1, kernel=rbf............................\n",
      "[CV 2/5; 27/30] END C=10000, gamma=0.1, kernel=rbf;, score=0.842 total time=   0.7s\n",
      "[CV 3/5; 27/30] START C=10000, gamma=0.1, kernel=rbf............................\n",
      "[CV 3/5; 27/30] END C=10000, gamma=0.1, kernel=rbf;, score=0.842 total time=   0.7s\n",
      "[CV 4/5; 27/30] START C=10000, gamma=0.1, kernel=rbf............................\n",
      "[CV 4/5; 27/30] END C=10000, gamma=0.1, kernel=rbf;, score=0.840 total time=   0.7s\n",
      "[CV 5/5; 27/30] START C=10000, gamma=0.1, kernel=rbf............................\n",
      "[CV 5/5; 27/30] END C=10000, gamma=0.1, kernel=rbf;, score=0.842 total time=   0.6s\n",
      "[CV 1/5; 28/30] START C=10000, gamma=0.01, kernel=rbf...........................\n",
      "[CV 1/5; 28/30] END C=10000, gamma=0.01, kernel=rbf;, score=0.803 total time=   0.3s\n",
      "[CV 2/5; 28/30] START C=10000, gamma=0.01, kernel=rbf...........................\n",
      "[CV 2/5; 28/30] END C=10000, gamma=0.01, kernel=rbf;, score=0.838 total time=   0.3s\n",
      "[CV 3/5; 28/30] START C=10000, gamma=0.01, kernel=rbf...........................\n",
      "[CV 3/5; 28/30] END C=10000, gamma=0.01, kernel=rbf;, score=0.838 total time=   0.3s\n",
      "[CV 4/5; 28/30] START C=10000, gamma=0.01, kernel=rbf...........................\n",
      "[CV 4/5; 28/30] END C=10000, gamma=0.01, kernel=rbf;, score=0.828 total time=   0.3s\n",
      "[CV 5/5; 28/30] START C=10000, gamma=0.01, kernel=rbf...........................\n",
      "[CV 5/5; 28/30] END C=10000, gamma=0.01, kernel=rbf;, score=0.821 total time=   0.3s\n",
      "[CV 1/5; 29/30] START C=10000, gamma=0.001, kernel=rbf..........................\n",
      "[CV 1/5; 29/30] END C=10000, gamma=0.001, kernel=rbf;, score=0.814 total time=   6.5s\n",
      "[CV 2/5; 29/30] START C=10000, gamma=0.001, kernel=rbf..........................\n",
      "[CV 2/5; 29/30] END C=10000, gamma=0.001, kernel=rbf;, score=0.826 total time=   5.9s\n",
      "[CV 3/5; 29/30] START C=10000, gamma=0.001, kernel=rbf..........................\n",
      "[CV 3/5; 29/30] END C=10000, gamma=0.001, kernel=rbf;, score=0.845 total time=   5.9s\n",
      "[CV 4/5; 29/30] START C=10000, gamma=0.001, kernel=rbf..........................\n",
      "[CV 4/5; 29/30] END C=10000, gamma=0.001, kernel=rbf;, score=0.856 total time=   5.4s\n",
      "[CV 5/5; 29/30] START C=10000, gamma=0.001, kernel=rbf..........................\n",
      "[CV 5/5; 29/30] END C=10000, gamma=0.001, kernel=rbf;, score=0.813 total time=   5.8s\n",
      "[CV 1/5; 30/30] START C=10000, gamma=0.0001, kernel=rbf.........................\n",
      "[CV 1/5; 30/30] END C=10000, gamma=0.0001, kernel=rbf;, score=0.908 total time=   5.3s\n",
      "[CV 2/5; 30/30] START C=10000, gamma=0.0001, kernel=rbf.........................\n",
      "[CV 2/5; 30/30] END C=10000, gamma=0.0001, kernel=rbf;, score=0.904 total time=   5.6s\n",
      "[CV 3/5; 30/30] START C=10000, gamma=0.0001, kernel=rbf.........................\n",
      "[CV 3/5; 30/30] END C=10000, gamma=0.0001, kernel=rbf;, score=0.885 total time=   4.5s\n",
      "[CV 4/5; 30/30] START C=10000, gamma=0.0001, kernel=rbf.........................\n",
      "[CV 4/5; 30/30] END C=10000, gamma=0.0001, kernel=rbf;, score=0.883 total time=   5.8s\n",
      "[CV 5/5; 30/30] START C=10000, gamma=0.0001, kernel=rbf.........................\n",
      "[CV 5/5; 30/30] END C=10000, gamma=0.0001, kernel=rbf;, score=0.899 total time=   5.0s\n"
     ]
    },
    {
     "data": {
      "text/plain": [
       "GridSearchCV(estimator=SVC(),\n",
       "             param_grid={'C': [0.1, 1, 10, 100, 1000, 10000],\n",
       "                         'gamma': [1, 0.1, 0.01, 0.001, 0.0001],\n",
       "                         'kernel': ['rbf']},\n",
       "             verbose=10)"
      ]
     },
     "execution_count": 49,
     "metadata": {},
     "output_type": "execute_result"
    }
   ],
   "source": [
    "grid.fit(X_train,y_train)"
   ]
  },
  {
   "cell_type": "code",
   "execution_count": 50,
   "id": "0a011007",
   "metadata": {},
   "outputs": [
    {
     "data": {
      "text/plain": [
       "{'C': 10000, 'gamma': 0.0001, 'kernel': 'rbf'}"
      ]
     },
     "execution_count": 50,
     "metadata": {},
     "output_type": "execute_result"
    }
   ],
   "source": [
    "grid.best_params_"
   ]
  },
  {
   "cell_type": "code",
   "execution_count": 53,
   "id": "dd509905",
   "metadata": {},
   "outputs": [
    {
     "data": {
      "text/plain": [
       "SVC(C=10000, gamma=0.0001)"
      ]
     },
     "execution_count": 53,
     "metadata": {},
     "output_type": "execute_result"
    }
   ],
   "source": [
    "grid.best_estimator_"
   ]
  },
  {
   "cell_type": "code",
   "execution_count": 54,
   "id": "412ab00b",
   "metadata": {},
   "outputs": [],
   "source": [
    "grid_predictions = grid.predict(X_test)"
   ]
  },
  {
   "cell_type": "code",
   "execution_count": 55,
   "id": "1e70a9c4",
   "metadata": {},
   "outputs": [
    {
     "name": "stdout",
     "output_type": "stream",
     "text": [
      "[[1014   14]\n",
      " [  97   83]]\n"
     ]
    }
   ],
   "source": [
    "print(confusion_matrix(y_test,grid_predictions))"
   ]
  },
  {
   "cell_type": "code",
   "execution_count": 56,
   "id": "a9378145",
   "metadata": {},
   "outputs": [
    {
     "name": "stdout",
     "output_type": "stream",
     "text": [
      "              precision    recall  f1-score   support\n",
      "\n",
      "           0       0.91      0.99      0.95      1028\n",
      "           1       0.86      0.46      0.60       180\n",
      "\n",
      "    accuracy                           0.91      1208\n",
      "   macro avg       0.88      0.72      0.77      1208\n",
      "weighted avg       0.90      0.91      0.90      1208\n",
      "\n"
     ]
    }
   ],
   "source": [
    "print(classification_report(y_test,grid_predictions))"
   ]
  },
  {
   "cell_type": "code",
   "execution_count": 57,
   "id": "9aef891a",
   "metadata": {},
   "outputs": [
    {
     "data": {
      "text/plain": [
       "0.9119318181818182"
      ]
     },
     "execution_count": 57,
     "metadata": {},
     "output_type": "execute_result"
    }
   ],
   "source": [
    "grid.score(X_train,y_train)"
   ]
  },
  {
   "cell_type": "code",
   "execution_count": 58,
   "id": "0beb7ae8",
   "metadata": {},
   "outputs": [
    {
     "data": {
      "text/plain": [
       "0.9081125827814569"
      ]
     },
     "execution_count": 58,
     "metadata": {},
     "output_type": "execute_result"
    }
   ],
   "source": [
    "grid.score(X_test,y_test)"
   ]
  }
 ],
 "metadata": {
  "kernelspec": {
   "display_name": "Python 3 (ipykernel)",
   "language": "python",
   "name": "python3"
  },
  "language_info": {
   "codemirror_mode": {
    "name": "ipython",
    "version": 3
   },
   "file_extension": ".py",
   "mimetype": "text/x-python",
   "name": "python",
   "nbconvert_exporter": "python",
   "pygments_lexer": "ipython3",
   "version": "3.9.7"
  }
 },
 "nbformat": 4,
 "nbformat_minor": 5
}
